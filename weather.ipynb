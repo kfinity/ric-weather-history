{
 "cells": [
  {
   "cell_type": "code",
   "execution_count": null,
   "metadata": {},
   "outputs": [],
   "source": []
  },
  {
   "cell_type": "markdown",
   "metadata": {},
   "source": [
    "## Related Python projects\n",
    "\n",
    "- [a Kaggle notebook using BigQuery](https://www.kaggle.com/paultimothymooney/how-to-query-the-noaa-ghcn-daily-weather-data)\n",
    "- [Get_NOAA_GHCN_data](https://github.com/aaronpenne/get_noaa_ghcn_data) - a python3 library to make it easier to access GHCN data\n",
    "\n",
    "## Sources for historical weather data\n",
    "\n",
    "- [weather underground](https://www.wunderground.com/history/daily/KRIC/date/2021-1-23) - private, ad supported - not intended for bulk download\n",
    "- [national weather service](https://w2.weather.gov/climate/local_data.php?wfo=akq) - mostly aggregate PDFs\n",
    "- [national climate data center](https://www.ncdc.noaa.gov/cdo-web/) - prominently offers paid access\n",
    "    - [NCDC 2](https://www.ncdc.noaa.gov/cdo-web/datasets/GHCND/stations/GHCND:USW00013740/detail) - RIC station\n",
    "- [NCEI](https://www.ncei.noaa.gov/metadata/geoportal/rest/metadata/item/gov.noaa.ncdc:C00861/html) - very helpful dataset resource - provided NCDC GCHN public links\n",
    "\n",
    "For one station, download from e.g. https://www1.ncdc.noaa.gov/pub/data/ghcn/daily/all/USW00013740.dly\n",
    "where in this case, Richmond International Airport has code 'USW00013740'\n",
    "\n",
    "Station codes can be found in https://www1.ncdc.noaa.gov/pub/data/ghcn/daily/ghcnd-stations.txt"
   ]
  },
  {
   "cell_type": "code",
   "execution_count": 16,
   "metadata": {},
   "outputs": [],
   "source": [
    "import pandas as pd\n",
    "import numpy as np\n",
    "import requests\n",
    "import urllib.request\n",
    "import os\n",
    "from io import StringIO"
   ]
  },
  {
   "cell_type": "code",
   "execution_count": null,
   "metadata": {},
   "outputs": [],
   "source": [
    "station_id = 'USW00013740'\n",
    "output_dir = 'ghcn_data'\n",
    "os.environ[\"DLY_OUTPUT\"] = output_dir\n",
    "\n",
    "# download the daily file\n",
    "#urllib.request.urlretrieve(f'https://www1.ncdc.noaa.gov/pub/data/ghcn/daily/all/{station_id}.dly', f'{output_dir}/{station_id}.dly')\n"
   ]
  },
  {
   "cell_type": "code",
   "execution_count": 22,
   "metadata": {
    "collapsed": true,
    "jupyter": {
     "outputs_hidden": true
    }
   },
   "outputs": [
    {
     "name": "stdout",
     "output_type": "stream",
     "text": [
      "230-****** WARNING ** WARNING ** WARNING ** WARNING ** WARNING ** ** WARNING ** WARNING ** WARNING ******\n",
      " ** You are accessing a U.S. Government information system, which includes:                         **\n",
      " ** 1) This computer, 2)This computer network, 3) All computers connected to this network, and      **\n",
      " ** 4) All devices and storage media attached to this network or to a computer on this network.     **\n",
      " ** You understand and consent to the following:                                                    **\n",
      " ** you may access this information system for authorized use only; you have no reasonable          **\n",
      " ** expectation of privacy regarding any communication of data transiting or stored on this         **\n",
      " ** information system; at any time and for any lawful Government purpose, the Government may       **\n",
      " ** monitor, intercept, and search and seize any communication or data transiting or stored on      **\n",
      " ** this information system; and any communications or data transiting or stored on this            **\n",
      " ** information system may be disclosed or used for any lawful Government purpose.                  **\n",
      " ****** WARNING ** WARNING ** WARNING ** WARNING ** WARNING ** ** WARNING ** WARNING ** WARNING ******\n",
      "230 Anonymous\n",
      "Year 1939 | Line 1\n",
      "Year 1940 | Line 41\n",
      "Year 1941 | Line 89\n",
      "Year 1942 | Line 137\n",
      "Year 1943 | Line 176\n",
      "Year 1944 | Line 188\n",
      "Year 1945 | Line 200\n",
      "Year 1946 | Line 212\n",
      "Year 1947 | Line 256\n",
      "Year 1948 | Line 304\n",
      "Year 1949 | Line 456\n",
      "Year 1950 | Line 598\n",
      "Year 1951 | Line 728\n",
      "Year 1952 | Line 883\n",
      "Year 1953 | Line 1036\n",
      "Year 1954 | Line 1189\n",
      "Year 1955 | Line 1339\n",
      "Year 1956 | Line 1488\n",
      "Year 1957 | Line 1642\n",
      "Year 1958 | Line 1793\n",
      "Year 1959 | Line 1946\n",
      "Year 1960 | Line 2095\n",
      "Year 1961 | Line 2250\n",
      "Year 1962 | Line 2373\n",
      "Year 1963 | Line 2492\n",
      "Year 1964 | Line 2606\n",
      "Year 1965 | Line 2718\n",
      "Year 1966 | Line 2911\n",
      "Year 1967 | Line 3109\n",
      "Year 1968 | Line 3311\n",
      "Year 1969 | Line 3507\n",
      "Year 1970 | Line 3704\n",
      "Year 1971 | Line 3899\n",
      "Year 1972 | Line 4100\n",
      "Year 1973 | Line 4299\n",
      "Year 1974 | Line 4530\n",
      "Year 1975 | Line 4765\n",
      "Year 1976 | Line 4997\n",
      "Year 1977 | Line 5226\n",
      "Year 1978 | Line 5458\n",
      "Year 1979 | Line 5692\n",
      "Year 1980 | Line 5929\n",
      "Year 1981 | Line 6166\n",
      "Year 1982 | Line 6393\n",
      "Year 1983 | Line 6631\n",
      "Year 1984 | Line 6860\n",
      "Year 1985 | Line 7121\n",
      "Year 1986 | Line 7372\n",
      "Year 1987 | Line 7629\n",
      "Year 1988 | Line 7896\n",
      "Year 1989 | Line 8148\n",
      "Year 1990 | Line 8419\n",
      "Year 1991 | Line 8672\n",
      "Year 1992 | Line 8924\n",
      "Year 1993 | Line 9181\n",
      "Year 1994 | Line 9441\n",
      "Year 1995 | Line 9700\n",
      "Year 1996 | Line 9959\n",
      "Year 1997 | Line 10193\n",
      "Year 1998 | Line 10418\n",
      "Year 1999 | Line 10653\n",
      "Year 2000 | Line 10892\n",
      "Year 2001 | Line 11140\n",
      "Year 2002 | Line 11394\n",
      "Year 2003 | Line 11653\n",
      "Year 2004 | Line 11918\n",
      "Year 2005 | Line 12175\n",
      "Year 2006 | Line 12418\n",
      "Year 2007 | Line 12656\n",
      "Year 2008 | Line 12889\n",
      "Year 2009 | Line 13144\n",
      "Year 2010 | Line 13404\n",
      "Year 2011 | Line 13672\n",
      "Year 2012 | Line 13909\n",
      "Year 2013 | Line 14121\n",
      "Year 2014 | Line 14293\n",
      "Year 2015 | Line 14453\n",
      "Year 2016 | Line 14630\n",
      "Year 2017 | Line 14806\n",
      "Year 2018 | Line 14978\n",
      "Year 2019 | Line 15153\n",
      "Year 2020 | Line 15328\n",
      "Year 2021 | Line 15497\n",
      "\n",
      "Output CSV saved to: output/USW00013740.csv\n"
     ]
    },
    {
     "data": {
      "text/plain": [
       "'221 Goodbye.'"
      ]
     },
     "execution_count": 22,
     "metadata": {},
     "output_type": "execute_result"
    }
   ],
   "source": [
    "# from https://github.com/aaronpenne/get_noaa_ghcn_data\n",
    "import get_dly \n",
    "#station_id = 'USW00013740'\n",
    "ftp = get_dly.connect_to_ftp()\n",
    "get_dly.dly_to_csv(ftp, station_id)\n",
    "ftp.quit()"
   ]
  },
  {
   "cell_type": "code",
   "execution_count": 57,
   "metadata": {},
   "outputs": [
    {
     "name": "stderr",
     "output_type": "stream",
     "text": [
      "/home/kfinity/anaconda3/envs/python38/lib/python3.8/site-packages/IPython/core/interactiveshell.py:3145: DtypeWarning: Columns (14,24,26,48,50,52,56,58,62,64,66,68,70,72,74,76,78,80,82,84,86,88,90,92) have mixed types.Specify dtype option on import or set low_memory=False.\n",
      "  has_raised = await self.run_ast_nodes(code_ast.body, cell_name,\n"
     ]
    }
   ],
   "source": [
    "ric = pd.read_csv(station_id + '.csv')"
   ]
  },
  {
   "cell_type": "code",
   "execution_count": 58,
   "metadata": {},
   "outputs": [],
   "source": [
    "# drop columns\n",
    "ric = ric.loc[:,['MM/DD/YYYY','YEAR','MONTH','TMIN','TMAX']]\n",
    "\n",
    "# fix date column\n",
    "ric['DAY'] = pd.to_datetime(ric['MM/DD/YYYY'], format='%Y-%m-%d')\n",
    "\n",
    "#ric.set_index('DAY', inplace=True)"
   ]
  },
  {
   "cell_type": "code",
   "execution_count": 62,
   "metadata": {},
   "outputs": [],
   "source": [
    "# convert TMIN from \"tenths of degrees C\" to F\n",
    "ric['TMIN_F'] = (ric['TMIN'] /10 * 9/5) +32"
   ]
  },
  {
   "cell_type": "code",
   "execution_count": 118,
   "metadata": {},
   "outputs": [],
   "source": [
    "# first-last df\n",
    "# max date in first half of year with frost (last frost date)\n",
    "fl = ric.loc[(ric['MONTH']<7) & (ric['TMIN_F']<=32.0),:].groupby('YEAR').agg({'DAY': 'max'}).reset_index()\n",
    "fl['LAST'] = pd.to_numeric(fl['DAY'].apply(lambda d: d.strftime('%j')))"
   ]
  },
  {
   "cell_type": "code",
   "execution_count": 127,
   "metadata": {},
   "outputs": [],
   "source": [
    "# min date in second half of year with frost\n",
    "fl['FIRST'] = pd.to_numeric(ric.loc[(ric['MONTH']>6) & (ric['TMIN_F']<=32.0), :]\\\n",
    "                            .groupby('YEAR').agg({'DAY': 'min'}).reset_index()['DAY']\\\n",
    "                            .apply(lambda d: d.strftime('%j')))\n",
    "fl = fl.dropna() # probably drops the current year, if it doesn't have a first fall frost date yet.\n",
    "fl['FIRST'] = fl['FIRST'].astype('int16')"
   ]
  },
  {
   "cell_type": "code",
   "execution_count": 167,
   "metadata": {},
   "outputs": [],
   "source": [
    "from matplotlib.ticker import FuncFormatter\n",
    "from datetime import datetime\n",
    "\n",
    "# convert day of year to month-day string labels\n",
    "def j_to_md(x, pos):\n",
    "    return datetime.strptime(str(int(x)), '%j').strftime('%b %d')\n",
    "    \n",
    "jmd_formatter = FuncFormatter(j_to_md)"
   ]
  },
  {
   "cell_type": "code",
   "execution_count": 41,
   "metadata": {},
   "outputs": [],
   "source": [
    "import seaborn as sns"
   ]
  },
  {
   "cell_type": "code",
   "execution_count": 134,
   "metadata": {},
   "outputs": [],
   "source": [
    "#sns.scatterplot(data=fl, x=\"YEAR\", y=\"LAST\")"
   ]
  },
  {
   "cell_type": "code",
   "execution_count": 133,
   "metadata": {},
   "outputs": [],
   "source": [
    "#sns.scatterplot(data=fl, x=\"YEAR\", y=\"LAST\")"
   ]
  },
  {
   "cell_type": "code",
   "execution_count": 185,
   "metadata": {},
   "outputs": [
    {
     "data": {
      "image/png": "[encoded data removed]",
      "text/plain": [
       "<Figure size 1440x720 with 2 Axes>"
      ]
     },
     "metadata": {
      "needs_background": "light"
     },
     "output_type": "display_data"
    },
    {
     "name": "stdout",
     "output_type": "stream",
     "text": [
      "Average last frost date:\n",
      "1939: Apr 15\n",
      "2020: Apr 01\n",
      "2020 actual last frost date: May 11\n",
      "Average first frost date:\n",
      "1939: Oct 25\n",
      "2020: Nov 06\n",
      "2020 actual first frost date: Nov 19\n"
     ]
    }
   ],
   "source": [
    "from matplotlib import pyplot as plt\n",
    "from matplotlib.ticker import MultipleLocator\n",
    "\n",
    "# 2 plots\n",
    "fig, (ax1, ax2) = plt.subplots(1, 2)\n",
    "\n",
    "# set figure size in inches\n",
    "fig.set_figheight(10)\n",
    "fig.set_figwidth(20)\n",
    "\n",
    "ax1.scatter(fl.YEAR, fl.LAST, s=5)\n",
    "\n",
    "z = np.polyfit(fl.YEAR, fl.LAST, 1)\n",
    "p = np.poly1d(z)\n",
    "ax1.plot(fl.YEAR, p(fl.YEAR), \"r\", linewidth=1)\n",
    "\n",
    "ax1.yaxis.set_major_locator(MultipleLocator(14))\n",
    "ax1.yaxis.set_major_formatter(jmd_formatter)\n",
    "ax1.yaxis.set_minor_locator(MultipleLocator(1))\n",
    "ax1.invert_yaxis()\n",
    "\n",
    "ax1.set_title('Last spring frost date', fontsize=18)\n",
    "\n",
    "# first frost\n",
    "ax2.scatter(fl.YEAR, fl.FIRST, s=5)\n",
    "\n",
    "z2 = np.polyfit(fl.YEAR, fl.FIRST, 1)\n",
    "p2 = np.poly1d(z2)\n",
    "ax2.plot(fl.YEAR, p2(fl.YEAR), \"r\", linewidth=1)\n",
    "\n",
    "ax2.yaxis.set_major_locator(MultipleLocator(14))\n",
    "ax2.yaxis.set_major_formatter(jmd_formatter)\n",
    "ax2.yaxis.set_minor_locator(MultipleLocator(1))\n",
    "ax2.invert_yaxis()\n",
    "\n",
    "ax2.set_title('First fall frost date', fontsize=18)\n",
    "\n",
    "fig.suptitle('RIC weather station (USW00013740)', fontsize=12)\n",
    "\n",
    "plt.show()\n",
    "\n",
    "print('Average last frost date:')\n",
    "print('1939: {}'.format(jmd_formatter(p(1939),0)))\n",
    "print('2020: {}'.format(jmd_formatter(p(2020),0)))\n",
    "print('2020 actual last frost date: {}'.format(jmd_formatter(fl.loc[fl['YEAR']==2020,'LAST'],0)))\n",
    "print('Average first frost date:')\n",
    "print('1939: {}'.format(jmd_formatter(p2(1939),0)))\n",
    "print('2020: {}'.format(jmd_formatter(p2(2020),0)))\n",
    "print('2020 actual first frost date: {}'.format(jmd_formatter(fl.loc[fl['YEAR']==2020,'FIRST'],0)))\n"
   ]
  },
  {
   "cell_type": "code",
   "execution_count": 186,
   "metadata": {},
   "outputs": [],
   "source": [
    "fig.savefig(\"ric_frosts.png\", facecolor='white', bbox_inches='tight') # tight margins"
   ]
  },
  {
   "cell_type": "code",
   "execution_count": 165,
   "metadata": {},
   "outputs": [
    {
     "data": {
      "image/png": "[encoded data removed]",
      "text/plain": [
       "<Figure size 720x720 with 1 Axes>"
      ]
     },
     "metadata": {
      "needs_background": "light"
     },
     "output_type": "display_data"
    },
    {
     "name": "stdout",
     "output_type": "stream",
     "text": [
      "Average first frost date:\n",
      "1939: 11-01\n",
      "2020: 11-12\n",
      "2020 actual first frost date: 11-19\n"
     ]
    }
   ],
   "source": [
    "# set figure size in inches\n",
    "fig = plt.figure(figsize=(10,10))\n",
    "ax = plt.axes()\n",
    "\n",
    "plt.scatter(fl.YEAR, fl.FIRST, s=5)\n",
    "\n",
    "z2 = np.polyfit(fl.YEAR, fl.FIRST, 2)\n",
    "p2 = np.poly1d(z2)\n",
    "plt.plot(fl.YEAR, p2(fl.YEAR), \"r\")\n",
    "\n",
    "ax.yaxis.set_major_formatter(jmd_formatter)\n",
    "plt.gca().invert_yaxis()\n",
    "\n",
    "plt.show()\n",
    "print('Average first frost date:')\n",
    "print('1939: {}'.format(jmd_formatter(p2(1939),0)))\n",
    "print('2020: {}'.format(jmd_formatter(p2(2020),0)))\n",
    "print('2020 actual first frost date: {}'.format(jmd_formatter(fl.loc[fl['YEAR']==2020,'FIRST'],0)))\n"
   ]
  },
  {
   "cell_type": "markdown",
   "metadata": {},
   "source": [
    "### Statistical analysis"
   ]
  },
  {
   "cell_type": "code",
   "execution_count": 187,
   "metadata": {},
   "outputs": [
    {
     "data": {
      "text/plain": [
       "'output'"
      ]
     },
     "execution_count": 187,
     "metadata": {},
     "output_type": "execute_result"
    }
   ],
   "source": [
    "os.path.relpath('output')"
   ]
  },
  {
   "cell_type": "code",
   "execution_count": null,
   "metadata": {},
   "outputs": [],
   "source": []
  }
 ],
 "metadata": {
  "kernelspec": {
   "display_name": "Python 3",
   "language": "python",
   "name": "python3"
  },
  "language_info": {
   "codemirror_mode": {
    "name": "ipython",
    "version": 3
   },
   "file_extension": ".py",
   "mimetype": "text/x-python",
   "name": "python",
   "nbconvert_exporter": "python",
   "pygments_lexer": "ipython3",
   "version": "3.8.3"
  }
 },
 "nbformat": 4,
 "nbformat_minor": 4
}
